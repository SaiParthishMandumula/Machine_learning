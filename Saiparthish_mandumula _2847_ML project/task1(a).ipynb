{
 "cells": [
  {
   "cell_type": "code",
   "execution_count": 1,
   "id": "0ebd946d",
   "metadata": {},
   "outputs": [
    {
     "name": "stdout",
     "output_type": "stream",
     "text": [
      "[['1.6530190426733' '72.871146648479' '24' 'W']\n",
      " ['1.6471384909498' '72.612785314988' '34' 'W']\n",
      " ['1.6472055785348' '73.53968351051' '33' 'M']\n",
      " ['1.7323008914951' '76.067870338779' '30' 'M']\n",
      " ['1.6750702657911' '81.05582111533' '30' 'M']\n",
      " ['1.5780970716644' '64.926084680188' '30' 'W']\n",
      " ['1.6587629355524' '69.38092449041' '30' 'M']\n",
      " ['1.6763295980234' '77.062295990149' '31' 'M']\n",
      " ['1.7187224085504' '62.112923317057' '37' 'W']\n",
      " ['1.5202218226439' '66.151444019603' '27' 'W']\n",
      " ['1.5552689261884' '66.076386143769' '31' 'W']\n",
      " ['1.6969333189258' '77.45386244568' '34' 'M']\n",
      " ['1.6887980792886' '76.489640732464' '37' 'M']\n",
      " ['1.5213552893624' '63.952944947832' '35' 'W']]\n",
      "[['1.62065758929' '59.376557437583' '32']\n",
      " ['1.7793983848363' '72.071775670801' '36']\n",
      " ['1.7004576585974' '66.267508112786' '31']\n",
      " ['1.6591086215159' '61.751621901787' '29']]\n"
     ]
    }
   ],
   "source": [
    "import numpy as np # We import the numpy.\n",
    "import math \n",
    "from math import sqrt\n",
    " \n",
    "\n",
    "def clean_data(line):\n",
    "    return line.replace('(', '').replace(')', '').replace(' ', '').strip().split(',')\n",
    "\n",
    "def fetch_data(filename):\n",
    "    with open(filename, 'r') as f:\n",
    "        input_data = f.readlines()\n",
    "        clean_input = list(map(clean_data, input_data))\n",
    "        f.close()\n",
    "    return clean_input\n",
    "\n",
    "\n",
    "def readFile(dataset_path):\n",
    "    input_data = fetch_data(dataset_path)\n",
    "    input_np = np.array(input_data)\n",
    "    return input_np\n",
    "\n",
    "training_data = './dataset/1a-training.txt'\n",
    "test_data = './dataset/1a-test.txt'\n",
    "large_120_data = './dataset/1c-data.txt'\n",
    "\n",
    "train_np = readFile(training_data)\n",
    "print(train_np)\n",
    "test_np = readFile(test_data)\n",
    "print(test_np)\n",
    "large_np = readFile(large_120_data)"
   ]
  },
  {
   "cell_type": "code",
   "execution_count": 3,
   "id": "2831d1a5",
   "metadata": {},
   "outputs": [
    {
     "name": "stdout",
     "output_type": "stream",
     "text": [
      "-------- inde 1 ---------\n",
      "W\n",
      "W\n",
      "W\n",
      "W\n",
      "-------- inde 3 ---------\n",
      "W\n",
      "M\n",
      "W\n",
      "W\n",
      "-------- inde 7 ---------\n",
      "W\n",
      "M\n",
      "W\n",
      "W\n"
     ]
    }
   ],
   "source": [
    "#name:Sai Parthish_mandumula .Id:1002022847.\n",
    "def calcy(given_list): #  we define the calcy  to   the given list. \n",
    "    ballot = {'W':0,'M':0 } # here we ballot the no of \"w\"=womens and \"m\"=men.\n",
    "    for element in given_list: # for every element in the given list.\n",
    "        if element =='W':  #   if the element in the list is the women.\n",
    "            ballot['W'] += 1  # if the women is in the list then increment.\n",
    "        if element=='M':  # if the element in the given list is the \"men\"\n",
    "            ballot['M'] += 1 # increment the men in the given list.\n",
    "    return ballot  #return the  no of ballot in the given list.\n",
    "        \n",
    "\n",
    "    \n",
    "#Cartesian distance\n",
    "consider_value = [1,3,7] #  for the consideration list  we need to take the given test case.\n",
    "for inde in consider_value : # for the every inde in the  given consideration value.\n",
    "    print('-------- inde {} ---------'.format(inde)) # print the inde and the format of the inde.\n",
    "    for element_test in test_np: # for the element in the test np  from the given file.\n",
    "        disty = []                                   #for saving the distance for each test intance to the traindataset \n",
    "        for segment_train in  train_np: #  for the every in given segement in the trainer segment.\n",
    "            f_ele = np.array( [float(evry) for evry in segment_train[:3]]) # we take it the first element.\n",
    "            s_ele = np.array( [float(evry) for evry in element_test[:3]]) # for the every element in the given element list from starting index to third element.\n",
    "            t_ele = sqrt(np.sum( (f_ele-s_ele)**2 )) #the formula for the given cartesian equation.  \n",
    "            disty.append(t_ele) # the distance needed  to be append or pushed to the  t_ele.\n",
    "        \n",
    "        \n",
    "        almost = np.argsort(disty) # for the closetet element the distance is needed.               \n",
    "                                                \n",
    "        almostf_s = [train_np[ele][3] for ele in almost[:inde]] # for the closses f_s is the given element where the  given trainer _np  is from the ele  to the index 3.\n",
    "        ballots = calcy(almostf_s) # for the ballots in the given function calcy the clossests f_s.\n",
    "        if ballots['W']>ballots['M']: #  for the ballots w is greater then the m in the list.\n",
    "            print('W') # we print the women as w\n",
    "        else:\n",
    "            print('M') # we  print the men as m.\n",
    "        #print(votes.most_common(1)[0][0])"
   ]
  },
  {
   "cell_type": "code",
   "execution_count": null,
   "id": "b03da240",
   "metadata": {},
   "outputs": [],
   "source": []
  }
 ],
 "metadata": {
  "kernelspec": {
   "display_name": "Python 3 (ipykernel)",
   "language": "python",
   "name": "python3"
  },
  "language_info": {
   "codemirror_mode": {
    "name": "ipython",
    "version": 3
   },
   "file_extension": ".py",
   "mimetype": "text/x-python",
   "name": "python",
   "nbconvert_exporter": "python",
   "pygments_lexer": "ipython3",
   "version": "3.9.7"
  }
 },
 "nbformat": 4,
 "nbformat_minor": 5
}
