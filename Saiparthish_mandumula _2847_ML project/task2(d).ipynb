{
 "cells": [
  {
   "cell_type": "code",
   "execution_count": 1,
   "id": "067444ae",
   "metadata": {},
   "outputs": [
    {
     "name": "stdout",
     "output_type": "stream",
     "text": [
      "[['1.6530190426733' '72.871146648479' '24' 'W']\n",
      " ['1.6471384909498' '72.612785314988' '34' 'W']\n",
      " ['1.6472055785348' '73.53968351051' '33' 'M']\n",
      " ['1.7323008914951' '76.067870338779' '30' 'M']\n",
      " ['1.6750702657911' '81.05582111533' '30' 'M']\n",
      " ['1.5780970716644' '64.926084680188' '30' 'W']\n",
      " ['1.6587629355524' '69.38092449041' '30' 'M']\n",
      " ['1.6763295980234' '77.062295990149' '31' 'M']\n",
      " ['1.7187224085504' '62.112923317057' '37' 'W']\n",
      " ['1.5202218226439' '66.151444019603' '27' 'W']\n",
      " ['1.5552689261884' '66.076386143769' '31' 'W']\n",
      " ['1.6969333189258' '77.45386244568' '34' 'M']\n",
      " ['1.6887980792886' '76.489640732464' '37' 'M']\n",
      " ['1.5213552893624' '63.952944947832' '35' 'W']]\n",
      "[['1.62065758929' '59.376557437583' '32']\n",
      " ['1.7793983848363' '72.071775670801' '36']\n",
      " ['1.7004576585974' '66.267508112786' '31']\n",
      " ['1.6591086215159' '61.751621901787' '29']]\n"
     ]
    }
   ],
   "source": [
    "import numpy as np # We import the numpy.\n",
    "import math \n",
    "from math import sqrt\n",
    " \n",
    "\n",
    "def clean_data(line):\n",
    "    return line.replace('(', '').replace(')', '').replace(' ', '').strip().split(',')\n",
    "\n",
    "def fetch_data(filename):\n",
    "    with open(filename, 'r') as f:\n",
    "        input_data = f.readlines()\n",
    "        clean_input = list(map(clean_data, input_data))\n",
    "        f.close()\n",
    "    return clean_input\n",
    "\n",
    "\n",
    "def readFile(dataset_path):\n",
    "    input_data = fetch_data(dataset_path)\n",
    "    input_np = np.array(input_data)\n",
    "    return input_np\n",
    "\n",
    "training_data = './dataset/1a-training.txt'\n",
    "test_data = './dataset/1a-test.txt'\n",
    "large_120_data = './dataset/1c-data.txt'\n",
    "\n",
    "train_np = readFile(training_data)\n",
    "print(train_np)\n",
    "test_np = readFile(test_data)\n",
    "print(test_np)\n",
    "large_np = readFile(large_120_data)"
   ]
  },
  {
   "cell_type": "code",
   "execution_count": 5,
   "id": "81de8538",
   "metadata": {},
   "outputs": [
    {
     "name": "stdout",
     "output_type": "stream",
     "text": [
      "-------- inde 1 ---------\n",
      "Accuracy : 0.55\n",
      "-------- inde 3 ---------\n",
      "Accuracy : 0.6166666666666667\n",
      "-------- inde 7 ---------\n",
      "Accuracy : 0.6083333333333333\n",
      "-------- inde 9 ---------\n",
      "Accuracy : 0.6333333333333333\n",
      "-------- inde 11 ---------\n",
      "Accuracy : 0.5916666666666667\n"
     ]
    }
   ],
   "source": [
    "#name:Sai Parthish_mandumula .Id:1002022847.\n",
    "def calcy(given_list): \n",
    "    ballot = {'W':0,'M':0 }\n",
    "    for element in given_list:\n",
    "        if element =='W':\n",
    "            ballot['W'] += 1 \n",
    "        if element=='M':\n",
    "            ballot['M'] += 1\n",
    "    return ballot\n",
    "#Cartesian distance\n",
    "consider_value = [1,3,7,9,11]\n",
    "train_size = len(large_np)\n",
    "for inde in consider_value:\n",
    "    print('-------- inde {} ---------'.format(inde))\n",
    "    cathod_count =  0\n",
    "    for ind,segment_train in enumerate(large_np):\n",
    "        disty = []                                   #for saving the distance for each test intance to the traindataset \n",
    "        \n",
    "        temp_set = np.concatenate((large_np[:ind],large_np[ind+1:]))\n",
    "        for ele_train in  temp_set:\n",
    "            f_ele = np.array( [float(evry) for evry in ele_train[:3]])\n",
    "           \n",
    "            s_ele = np.array( [float(evry) for evry in segment_train[:3]])\n",
    "             \n",
    "            t_ele = sqrt(np.sum( (f_ele-s_ele)**2 ))   \n",
    "            disty.append(t_ele)\n",
    "        \n",
    "        \n",
    "        almost = np.argsort(disty)                \n",
    "                                                \n",
    "        almostf_s= [ temp_set[ele][3] for ele in almost[:inde]]\n",
    "        ballots = calcy(almostf_s)\n",
    "\n",
    "        if ballots['W']>ballots['M']:\n",
    "            pred = 'W'\n",
    "        else:\n",
    "            pred = 'M'\n",
    "    \n",
    "        \n",
    "        cathod_count +=  1 if pred == segment_train[3] else 0 \n",
    "    print('Accuracy : {}'.format(cathod_count/train_size))"
   ]
  },
  {
   "cell_type": "code",
   "execution_count": null,
   "id": "0ff39fcd",
   "metadata": {},
   "outputs": [],
   "source": []
  }
 ],
 "metadata": {
  "kernelspec": {
   "display_name": "Python 3 (ipykernel)",
   "language": "python",
   "name": "python3"
  },
  "language_info": {
   "codemirror_mode": {
    "name": "ipython",
    "version": 3
   },
   "file_extension": ".py",
   "mimetype": "text/x-python",
   "name": "python",
   "nbconvert_exporter": "python",
   "pygments_lexer": "ipython3",
   "version": "3.9.7"
  }
 },
 "nbformat": 4,
 "nbformat_minor": 5
}
