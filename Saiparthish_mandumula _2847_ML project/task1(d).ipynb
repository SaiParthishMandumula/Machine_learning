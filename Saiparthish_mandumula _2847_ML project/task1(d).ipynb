{
 "cells": [
  {
   "cell_type": "code",
   "execution_count": 13,
   "id": "23f8fc42",
   "metadata": {},
   "outputs": [
    {
     "name": "stdout",
     "output_type": "stream",
     "text": [
      "[['1.6530190426733' '72.871146648479' '24' 'W']\n",
      " ['1.6471384909498' '72.612785314988' '34' 'W']\n",
      " ['1.6472055785348' '73.53968351051' '33' 'M']\n",
      " ['1.7323008914951' '76.067870338779' '30' 'M']\n",
      " ['1.6750702657911' '81.05582111533' '30' 'M']\n",
      " ['1.5780970716644' '64.926084680188' '30' 'W']\n",
      " ['1.6587629355524' '69.38092449041' '30' 'M']\n",
      " ['1.6763295980234' '77.062295990149' '31' 'M']\n",
      " ['1.7187224085504' '62.112923317057' '37' 'W']\n",
      " ['1.5202218226439' '66.151444019603' '27' 'W']\n",
      " ['1.5552689261884' '66.076386143769' '31' 'W']\n",
      " ['1.6969333189258' '77.45386244568' '34' 'M']\n",
      " ['1.6887980792886' '76.489640732464' '37' 'M']\n",
      " ['1.5213552893624' '63.952944947832' '35' 'W']]\n",
      "[['1.62065758929' '59.376557437583' '32']\n",
      " ['1.7793983848363' '72.071775670801' '36']\n",
      " ['1.7004576585974' '66.267508112786' '31']\n",
      " ['1.6591086215159' '61.751621901787' '29']]\n"
     ]
    }
   ],
   "source": [
    "import numpy as np\n",
    "import math \n",
    "from math import sqrt\n",
    " \n",
    "\n",
    "def clean_data(line):\n",
    "    return line.replace('(', '').replace(')', '').replace(' ', '').strip().split(',')\n",
    "\n",
    "def fetch_data(filename):\n",
    "    with open(filename, 'r') as f:\n",
    "        input_data = f.readlines()\n",
    "        clean_input = list(map(clean_data, input_data))\n",
    "        f.close()\n",
    "    return clean_input\n",
    "\n",
    "\n",
    "def readFile(dataset_path):\n",
    "    input_data = fetch_data(dataset_path)\n",
    "    input_np = np.array(input_data)\n",
    "    return input_np\n",
    "\n",
    "training_data = './dataset/1a-training.txt'\n",
    "test_data = './dataset/1a-test.txt'\n",
    "large_120_data = './dataset/1c-data.txt'\n",
    "\n",
    "train_np = readFile(training_data)\n",
    "print(train_np)\n",
    "test_np = readFile(test_data)\n",
    "print(test_np)\n",
    "large_np = readFile(large_120_data)"
   ]
  },
  {
   "cell_type": "code",
   "execution_count": 18,
   "id": "14ed11e5",
   "metadata": {},
   "outputs": [
    {
     "name": "stdout",
     "output_type": "stream",
     "text": [
      "-------- inde 1 ---------\n",
      "Accuracy : 0.6428571428571429\n",
      "-------- inde 3 ---------\n",
      "Accuracy : 0.6428571428571429\n",
      "-------- inde 7 ---------\n",
      "Accuracy : 0.5714285714285714\n",
      "-------- inde 9 ---------\n",
      "Accuracy : 0.5714285714285714\n",
      "-------- inde 11 ---------\n",
      "Accuracy : 0.5714285714285714\n"
     ]
    }
   ],
   "source": [
    "#name:Sai Parthish_mandumula .Id:1002022847.\n",
    "def calcy(given_list): # we take the calcy function with the given list.\n",
    "    ballot = {'W':0,'M':0 } # we take ballot as  to know the no of value  for the men and women.\n",
    "    for element in given_list: # for element in the given list.\n",
    "        if element =='W': # we take the value element as w as women.\n",
    "            ballot['W'] += 1 #we take ballot w increment .\n",
    "        if element=='M': #  if the element is men.\n",
    "            ballot['M'] += 1 #  we will print the men.\n",
    "    return ballot # we  return the ballot .\n",
    "#Cartesian distance\n",
    "consider_value = [1,3,7,9,11] #  we consider the given value.\n",
    "train_size = len(train_np) # for thee given train_sixe dataser we find  len of the train np.\n",
    "for inde in consider_value: # for the every inde  in the consider_value.\n",
    "    print('-------- inde {} ---------'.format(inde)) # we will print the inde and the format of the inde.\n",
    "    cathod_count =  0 # we  initialize the value with the o.\n",
    "    for ind,segment_train in enumerate(train_np): #  for the inde the segment train is enumerate the train _np.\n",
    "        disty = []                                   #for saving the distance for each test intance to the traindataset \n",
    "        \n",
    "        temp_set = np.concatenate((large_np[:ind],large_np[ind+1:])) # we make the  temp_set  and concate the large no and increment the value.\n",
    "        for ele_train in  temp_set: # for revery ele_train in the temp_set.\n",
    "            f_ele = np.array( [float(evry) for evry in ele_train[:3]]) # if the element of the np.array is the floating point.\n",
    "           \n",
    "            s_ele = np.array( [float(evry) for evry in segment_train[:3]])\n",
    "             \n",
    "            t_ele = sqrt(np.sum( (f_ele-s_ele)**2 )) # we implement the mathematical formula for the equation.  \n",
    "            disty.append(t_ele) # we need to appen the  result of the distance.\n",
    "        \n",
    "        \n",
    "        almost = np.argsort(disty)  #  for the almost the np is the needed to find the distance.               \n",
    "                                                \n",
    "        almostf_s= [ temp_set[ele][3] for ele in almost[:inde]] # for  almost f_s  it needed to find every ele in  from the index to the third element.\n",
    "        ballots = calcy(almostf_s) # for eveery ballots in  we need to  calcy the almost f_s list.\n",
    "\n",
    "        if ballots['W']>ballots['M']: #if the ballots  of w is greater then the ballota of m\n",
    "            pred = 'W'\n",
    "        else:\n",
    "            pred = 'M'\n",
    "    \n",
    "        \n",
    "        cathod_count +=  1 if pred == segment_train[3] else 0 \n",
    "    print('Accuracy : {}'.format(cathod_count/train_size))"
   ]
  },
  {
   "cell_type": "code",
   "execution_count": null,
   "id": "92404bd7",
   "metadata": {},
   "outputs": [],
   "source": []
  }
 ],
 "metadata": {
  "kernelspec": {
   "display_name": "Python 3 (ipykernel)",
   "language": "python",
   "name": "python3"
  },
  "language_info": {
   "codemirror_mode": {
    "name": "ipython",
    "version": 3
   },
   "file_extension": ".py",
   "mimetype": "text/x-python",
   "name": "python",
   "nbconvert_exporter": "python",
   "pygments_lexer": "ipython3",
   "version": "3.9.7"
  }
 },
 "nbformat": 4,
 "nbformat_minor": 5
}
